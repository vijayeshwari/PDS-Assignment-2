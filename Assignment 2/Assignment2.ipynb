{
 "cells": [
  {
   "cell_type": "markdown",
   "id": "ea31b93a",
   "metadata": {},
   "source": [
    "# question 1 set a seed (to ensure work reproducibility) and take a random sample of 25 observations and\n",
    "find the mean Glucose and highest Glucose values of this sample and compare these statistics\n",
    "with the population statistics of the same variable. You should use chsarts for this comparison.\n",
    "(5 points)"
   ]
  },
  {
   "cell_type": "code",
   "execution_count": 1,
   "id": "c2fbb013",
   "metadata": {},
   "outputs": [],
   "source": [
    "\n",
    "import pandas as pd\n",
    "\n",
    "# Import the diabetes dataset\n",
    "diabetes = pd.read_csv('diabetes.csv')\n"
   ]
  },
  {
   "cell_type": "code",
   "execution_count": 2,
   "id": "dc7dd374",
   "metadata": {},
   "outputs": [
    {
     "data": {
      "text/html": [
       "<div>\n",
       "<style scoped>\n",
       "    .dataframe tbody tr th:only-of-type {\n",
       "        vertical-align: middle;\n",
       "    }\n",
       "\n",
       "    .dataframe tbody tr th {\n",
       "        vertical-align: top;\n",
       "    }\n",
       "\n",
       "    .dataframe thead th {\n",
       "        text-align: right;\n",
       "    }\n",
       "</style>\n",
       "<table border=\"1\" class=\"dataframe\">\n",
       "  <thead>\n",
       "    <tr style=\"text-align: right;\">\n",
       "      <th></th>\n",
       "      <th>Pregnancies</th>\n",
       "      <th>Glucose</th>\n",
       "      <th>BloodPressure</th>\n",
       "      <th>SkinThickness</th>\n",
       "      <th>Insulin</th>\n",
       "      <th>BMI</th>\n",
       "      <th>DiabetesPedigreeFunction</th>\n",
       "      <th>Age</th>\n",
       "      <th>Outcome</th>\n",
       "    </tr>\n",
       "  </thead>\n",
       "  <tbody>\n",
       "    <tr>\n",
       "      <th>0</th>\n",
       "      <td>6</td>\n",
       "      <td>148</td>\n",
       "      <td>72</td>\n",
       "      <td>35</td>\n",
       "      <td>0</td>\n",
       "      <td>33.6</td>\n",
       "      <td>0.627</td>\n",
       "      <td>50</td>\n",
       "      <td>1</td>\n",
       "    </tr>\n",
       "    <tr>\n",
       "      <th>1</th>\n",
       "      <td>1</td>\n",
       "      <td>85</td>\n",
       "      <td>66</td>\n",
       "      <td>29</td>\n",
       "      <td>0</td>\n",
       "      <td>26.6</td>\n",
       "      <td>0.351</td>\n",
       "      <td>31</td>\n",
       "      <td>0</td>\n",
       "    </tr>\n",
       "    <tr>\n",
       "      <th>2</th>\n",
       "      <td>8</td>\n",
       "      <td>183</td>\n",
       "      <td>64</td>\n",
       "      <td>0</td>\n",
       "      <td>0</td>\n",
       "      <td>23.3</td>\n",
       "      <td>0.672</td>\n",
       "      <td>32</td>\n",
       "      <td>1</td>\n",
       "    </tr>\n",
       "    <tr>\n",
       "      <th>3</th>\n",
       "      <td>1</td>\n",
       "      <td>89</td>\n",
       "      <td>66</td>\n",
       "      <td>23</td>\n",
       "      <td>94</td>\n",
       "      <td>28.1</td>\n",
       "      <td>0.167</td>\n",
       "      <td>21</td>\n",
       "      <td>0</td>\n",
       "    </tr>\n",
       "    <tr>\n",
       "      <th>4</th>\n",
       "      <td>0</td>\n",
       "      <td>137</td>\n",
       "      <td>40</td>\n",
       "      <td>35</td>\n",
       "      <td>168</td>\n",
       "      <td>43.1</td>\n",
       "      <td>2.288</td>\n",
       "      <td>33</td>\n",
       "      <td>1</td>\n",
       "    </tr>\n",
       "    <tr>\n",
       "      <th>...</th>\n",
       "      <td>...</td>\n",
       "      <td>...</td>\n",
       "      <td>...</td>\n",
       "      <td>...</td>\n",
       "      <td>...</td>\n",
       "      <td>...</td>\n",
       "      <td>...</td>\n",
       "      <td>...</td>\n",
       "      <td>...</td>\n",
       "    </tr>\n",
       "    <tr>\n",
       "      <th>763</th>\n",
       "      <td>10</td>\n",
       "      <td>101</td>\n",
       "      <td>76</td>\n",
       "      <td>48</td>\n",
       "      <td>180</td>\n",
       "      <td>32.9</td>\n",
       "      <td>0.171</td>\n",
       "      <td>63</td>\n",
       "      <td>0</td>\n",
       "    </tr>\n",
       "    <tr>\n",
       "      <th>764</th>\n",
       "      <td>2</td>\n",
       "      <td>122</td>\n",
       "      <td>70</td>\n",
       "      <td>27</td>\n",
       "      <td>0</td>\n",
       "      <td>36.8</td>\n",
       "      <td>0.340</td>\n",
       "      <td>27</td>\n",
       "      <td>0</td>\n",
       "    </tr>\n",
       "    <tr>\n",
       "      <th>765</th>\n",
       "      <td>5</td>\n",
       "      <td>121</td>\n",
       "      <td>72</td>\n",
       "      <td>23</td>\n",
       "      <td>112</td>\n",
       "      <td>26.2</td>\n",
       "      <td>0.245</td>\n",
       "      <td>30</td>\n",
       "      <td>0</td>\n",
       "    </tr>\n",
       "    <tr>\n",
       "      <th>766</th>\n",
       "      <td>1</td>\n",
       "      <td>126</td>\n",
       "      <td>60</td>\n",
       "      <td>0</td>\n",
       "      <td>0</td>\n",
       "      <td>30.1</td>\n",
       "      <td>0.349</td>\n",
       "      <td>47</td>\n",
       "      <td>1</td>\n",
       "    </tr>\n",
       "    <tr>\n",
       "      <th>767</th>\n",
       "      <td>1</td>\n",
       "      <td>93</td>\n",
       "      <td>70</td>\n",
       "      <td>31</td>\n",
       "      <td>0</td>\n",
       "      <td>30.4</td>\n",
       "      <td>0.315</td>\n",
       "      <td>23</td>\n",
       "      <td>0</td>\n",
       "    </tr>\n",
       "  </tbody>\n",
       "</table>\n",
       "<p>768 rows × 9 columns</p>\n",
       "</div>"
      ],
      "text/plain": [
       "     Pregnancies  Glucose  BloodPressure  SkinThickness  Insulin   BMI  \\\n",
       "0              6      148             72             35        0  33.6   \n",
       "1              1       85             66             29        0  26.6   \n",
       "2              8      183             64              0        0  23.3   \n",
       "3              1       89             66             23       94  28.1   \n",
       "4              0      137             40             35      168  43.1   \n",
       "..           ...      ...            ...            ...      ...   ...   \n",
       "763           10      101             76             48      180  32.9   \n",
       "764            2      122             70             27        0  36.8   \n",
       "765            5      121             72             23      112  26.2   \n",
       "766            1      126             60              0        0  30.1   \n",
       "767            1       93             70             31        0  30.4   \n",
       "\n",
       "     DiabetesPedigreeFunction  Age  Outcome  \n",
       "0                       0.627   50        1  \n",
       "1                       0.351   31        0  \n",
       "2                       0.672   32        1  \n",
       "3                       0.167   21        0  \n",
       "4                       2.288   33        1  \n",
       "..                        ...  ...      ...  \n",
       "763                     0.171   63        0  \n",
       "764                     0.340   27        0  \n",
       "765                     0.245   30        0  \n",
       "766                     0.349   47        1  \n",
       "767                     0.315   23        0  \n",
       "\n",
       "[768 rows x 9 columns]"
      ]
     },
     "execution_count": 2,
     "metadata": {},
     "output_type": "execute_result"
    }
   ],
   "source": [
    "diabetes"
   ]
  },
  {
   "cell_type": "code",
   "execution_count": 3,
   "id": "ac349a46",
   "metadata": {},
   "outputs": [],
   "source": [
    "# Select a random sample of 25 observations\n",
    "sample = diabetes['Glucose'].sample(n=25, random_state=1)\n"
   ]
  },
  {
   "cell_type": "code",
   "execution_count": 4,
   "id": "1c094c0f",
   "metadata": {},
   "outputs": [
    {
     "data": {
      "text/plain": [
       "285    136\n",
       "101    151\n",
       "581    109\n",
       "352     61\n",
       "726    116\n",
       "472    119\n",
       "233    122\n",
       "385    119\n",
       "556     97\n",
       "59     105\n",
       "756    137\n",
       "341     95\n",
       "445    180\n",
       "614    138\n",
       "371    118\n",
       "355    165\n",
       "19     115\n",
       "711    126\n",
       "430     99\n",
       "117     78\n",
       "493    125\n",
       "218     85\n",
       "159    163\n",
       "667    111\n",
       "553     88\n",
       "Name: Glucose, dtype: int64"
      ]
     },
     "execution_count": 4,
     "metadata": {},
     "output_type": "execute_result"
    }
   ],
   "source": [
    "sample"
   ]
  },
  {
   "cell_type": "code",
   "execution_count": 5,
   "id": "940a487c",
   "metadata": {},
   "outputs": [
    {
     "name": "stdout",
     "output_type": "stream",
     "text": [
      "118.32\n",
      "180\n"
     ]
    }
   ],
   "source": [
    "# Calculate sample statistics\n",
    "sample_mean = sample.mean()\n",
    "sample_max = sample.max()\n",
    "print(sample_mean)\n",
    "print(sample_max)"
   ]
  },
  {
   "cell_type": "code",
   "execution_count": 6,
   "id": "000d5f53",
   "metadata": {},
   "outputs": [],
   "source": [
    "# Calculate population statistics\n",
    "pop_mean = diabetes['Glucose'].mean()\n",
    "pop_max = diabetes['Glucose'].max()\n"
   ]
  },
  {
   "cell_type": "code",
   "execution_count": 14,
   "id": "374bf1dd",
   "metadata": {},
   "outputs": [
    {
     "name": "stdout",
     "output_type": "stream",
     "text": [
      "120.89453125\n",
      "199\n"
     ]
    }
   ],
   "source": [
    "print(pop_mean)\n",
    "print(pop_max)"
   ]
  },
  {
   "cell_type": "code",
   "execution_count": 8,
   "id": "6013a846",
   "metadata": {},
   "outputs": [
    {
     "data": {
      "image/png": "[encoded data removed]",
      "text/plain": [
       "<Figure size 432x288 with 1 Axes>"
      ]
     },
     "metadata": {
      "needs_background": "light"
     },
     "output_type": "display_data"
    }
   ],
   "source": [
    "import matplotlib.pyplot as plt\n",
    "\n",
    "# Create a histogram of the sample data\n",
    "plt.hist(sample, bins=10)\n",
    "plt.xlabel('Glucose')\n",
    "plt.ylabel('Frequency')\n",
    "plt.title('Histogram of Glucose Values in Sample')\n",
    "plt.show()\n"
   ]
  },
  {
   "cell_type": "code",
   "execution_count": 9,
   "id": "abdd1e17",
   "metadata": {},
   "outputs": [
    {
     "data": {
      "image/png": "[encoded data removed]",
      "text/plain": [
       "<Figure size 432x288 with 1 Axes>"
      ]
     },
     "metadata": {
      "needs_background": "light"
     },
     "output_type": "display_data"
    }
   ],
   "source": [
    "# Add population statistics to the histogram\n",
    "plt.hist(sample, bins=10)\n",
    "plt.axvline(pop_mean, color='red', label='Population Mean')\n",
    "plt.axvline(pop_max, color='green', label='Population Max')\n",
    "plt.xlabel('Glucose')\n",
    "plt.ylabel('Frequency')\n",
    "plt.title('Histogram of Glucose Values in Sample')\n",
    "plt.legend()\n",
    "plt.show()\n"
   ]
  },
  {
   "cell_type": "code",
   "execution_count": 10,
   "id": "efaaab7a",
   "metadata": {},
   "outputs": [],
   "source": [
    "# Select a random sample of 25 observations\n",
    "sample = diabetes['BMI'].sample(n=25, random_state=1)\n"
   ]
  },
  {
   "cell_type": "code",
   "execution_count": 11,
   "id": "a4ac9a4d",
   "metadata": {},
   "outputs": [
    {
     "data": {
      "text/plain": [
       "285    26.0\n",
       "101    26.1\n",
       "581    25.0\n",
       "352    34.4\n",
       "726    36.1\n",
       "472    38.8\n",
       "233    35.0\n",
       "385    22.3\n",
       "556    38.1\n",
       "59     41.5\n",
       "756    32.0\n",
       "341    25.9\n",
       "445    59.4\n",
       "614    36.1\n",
       "371     0.0\n",
       "355    30.4\n",
       "19     34.6\n",
       "711    29.6\n",
       "430    22.2\n",
       "117    33.7\n",
       "493    28.9\n",
       "218    29.0\n",
       "159    40.9\n",
       "667    27.5\n",
       "553    29.9\n",
       "Name: BMI, dtype: float64"
      ]
     },
     "execution_count": 11,
     "metadata": {},
     "output_type": "execute_result"
    }
   ],
   "source": [
    "sample"
   ]
  },
  {
   "cell_type": "code",
   "execution_count": 12,
   "id": "6a1c1f33",
   "metadata": {},
   "outputs": [],
   "source": [
    "import numpy as np\n",
    "\n",
    "# Calculate the 98th percentile of BMI for the sample and population\n",
    "sample_98th_percentile = np.percentile(sample, 98)\n",
    "pop_98th_percentile = np.percentile(diabetes['BMI'], 98)\n"
   ]
  },
  {
   "cell_type": "code",
   "execution_count": 13,
   "id": "da8781b6",
   "metadata": {},
   "outputs": [
    {
     "name": "stdout",
     "output_type": "stream",
     "text": [
      "50.80799999999999\n",
      "47.52599999999996\n"
     ]
    }
   ],
   "source": [
    "print(sample_98th_percentile)\n",
    "print(pop_98th_percentile)"
   ]
  },
  {
   "cell_type": "code",
   "execution_count": 15,
   "id": "ccc91cb6",
   "metadata": {},
   "outputs": [
    {
     "data": {
      "image/png": "[encoded data removed]",
      "text/plain": [
       "<Figure size 432x288 with 1 Axes>"
      ]
     },
     "metadata": {
      "needs_background": "light"
     },
     "output_type": "display_data"
    }
   ],
   "source": [
    "import matplotlib.pyplot as plt\n",
    "\n",
    "# Create a box plot of the sample and population data\n",
    "data = [sample, diabetes['BMI']]\n",
    "plt.boxplot(data, labels=['Sample', 'Population'])\n",
    "plt.ylabel('BMI')\n",
    "plt.title('Box Plot of Sample and Population BMI Data')\n",
    "plt.show()\n"
   ]
  },
  {
   "cell_type": "markdown",
   "id": "90f466e9",
   "metadata": {},
   "source": [
    "# Using bootstrap (replace= True), create 500 samples (of 150 observation each) from the\n",
    "population and find the average mean, standard deviation and percentile for BloodPressure and\n",
    "compare this with these statistics from the population for the same variable. Again, you should\n",
    "create charts for this comparison. Report on your findings"
   ]
  },
  {
   "cell_type": "code",
   "execution_count": 16,
   "id": "f9b72d8d",
   "metadata": {},
   "outputs": [],
   "source": [
    "#Create a function to calculate the statistics\n",
    "#We can create a function that takes a sample as input and calculates the mean,\n",
    "#standard deviation, and percentile of the BloodPressure variable."
   ]
  },
  {
   "cell_type": "code",
   "execution_count": 17,
   "id": "31480752",
   "metadata": {},
   "outputs": [],
   "source": [
    "def calculate_stats(sample):\n",
    "    mean = sample['BloodPressure'].mean()\n",
    "    std_dev = sample['BloodPressure'].std()\n",
    "    percentile = np.percentile(sample['BloodPressure'], 95)\n",
    "    return mean, std_dev, percentile\n"
   ]
  },
  {
   "cell_type": "code",
   "execution_count": 18,
   "id": "35acdfb4",
   "metadata": {},
   "outputs": [],
   "source": [
    "# Create 500 bootstrap samples:\n",
    "# We can use the numpy random.choice() function to create 500 bootstrap samples of 150 observations each."
   ]
  },
  {
   "cell_type": "code",
   "execution_count": 21,
   "id": "8836af3f",
   "metadata": {},
   "outputs": [],
   "source": [
    "import numpy as np\n",
    "bootstrap_samples = []\n",
    "for i in range(500):\n",
    "    bootstrap_sample = np.random.choice(diabetes['BloodPressure'], size=150, replace=True)\n",
    "    bootstrap_samples.append(bootstrap_sample)"
   ]
  },
  {
   "cell_type": "code",
   "execution_count": 22,
   "id": "cacba500",
   "metadata": {},
   "outputs": [
    {
     "name": "stdout",
     "output_type": "stream",
     "text": [
      "[ 70  90  98  88  68  72  64  70  54  60  24  48  82  70  58   0 100  72\n",
      "  60  96  72  80  70  82  74  90  58  74  64  60  70  66  88  86  78  54\n",
      "  78  68  50  90  64  70  62  54  70  64  74  68  72  58  76  65  84  64\n",
      "  64  88   0  82  66  82  72  74  74  62  88  64  70  62  68  65  78  70\n",
      "  48 114  86  64  94  80  66  50  72  50  58  76  86  70  70  64  90  66\n",
      "  60  80  64  70  84  58  62  44  64  80   0  50  90  66  74  76  70  60\n",
      "  62  68  72  58  76  68  60  70  62  82  68  80  60  80  78  76  76  66\n",
      "  68  58  64  70  64  68  84  62  74  76  70  82  66  68  94  76  72   0\n",
      "  78  82  70  68  70  68]\n"
     ]
    }
   ],
   "source": [
    "print(bootstrap_sample)"
   ]
  },
  {
   "cell_type": "code",
   "execution_count": 27,
   "id": "47c7e6e5",
   "metadata": {},
   "outputs": [],
   "source": [
    "# Calculate the statistics for each bootstrap sample\n",
    "def calculate_stats(sample):\n",
    "    mean = np.mean(sample)\n",
    "    std_dev = np.std(sample)\n",
    "    percentile = np.percentile(sample, 95)\n",
    "    return mean, std_dev, percentile"
   ]
  },
  {
   "cell_type": "code",
   "execution_count": 28,
   "id": "a8fc3370",
   "metadata": {},
   "outputs": [
    {
     "data": {
      "image/png": "[encoded data removed]",
      "text/plain": [
       "<Figure size 432x288 with 1 Axes>"
      ]
     },
     "metadata": {
      "needs_background": "light"
     },
     "output_type": "display_data"
    },
    {
     "data": {
      "image/png": "[encoded data removed]",
      "text/plain": [
       "<Figure size 432x288 with 1 Axes>"
      ]
     },
     "metadata": {
      "needs_background": "light"
     },
     "output_type": "display_data"
    },
    {
     "data": {
      "image/png": "[encoded data removed]",
      "text/plain": [
       "<Figure size 432x288 with 1 Axes>"
      ]
     },
     "metadata": {
      "needs_background": "light"
     },
     "output_type": "display_data"
    }
   ],
   "source": [
    "# Calculate the statistics for the population data\n",
    "pop_mean = np.mean(diabetes['BloodPressure'])\n",
    "pop_std_dev = np.std(diabetes['BloodPressure'])\n",
    "pop_percentile = np.percentile(diabetes['BloodPressure'], 95)\n",
    "\n",
    "# Create box plots of the mean, standard deviation, and percentile for the bootstrap samples and the population data\n",
    "bootstrap_means = [sample_stats[0] for sample_stats in bootstrap_stats]\n",
    "bootstrap_std_devs = [sample_stats[1] for sample_stats in bootstrap_stats]\n",
    "bootstrap_percentiles = [sample_stats[2] for sample_stats in bootstrap_stats]\n",
    "\n",
    "data = [bootstrap_means, [pop_mean]*500]\n",
    "plt.boxplot(data, labels=['Bootstrap Means', 'Population Mean'])\n",
    "plt.ylabel('Blood Pressure')\n",
    "plt.title('Box Plot of Means of Bootstrap Samples and Population')\n",
    "plt.show()\n",
    "\n",
    "data = [bootstrap_std_devs, [pop_std_dev]*500]\n",
    "plt.boxplot(data, labels=['Bootstrap Standard Deviations', 'Population Standard Deviation'])\n",
    "plt.ylabel('Blood Pressure')\n",
    "plt.title('Box Plot of Standard Deviations of Bootstrap Samples and Population')\n",
    "plt.show()\n",
    "\n",
    "data = [bootstrap_percentiles, [pop_percentile]*500]\n",
    "plt.boxplot(data, labels=['Bootstrap 95th Percentiles', 'Population 95th Percentile'])\n",
    "plt.ylabel('Blood Pressure')\n",
    "plt.title('Box Plot of 95th Percentiles of Bootstrap Samples and Population')\n",
    "plt.show()\n"
   ]
  },
  {
   "cell_type": "code",
   "execution_count": null,
   "id": "efc6e254",
   "metadata": {},
   "outputs": [],
   "source": []
  }
 ],
 "metadata": {
  "kernelspec": {
   "display_name": "Python 3 (ipykernel)",
   "language": "python",
   "name": "python3"
  },
  "language_info": {
   "codemirror_mode": {
    "name": "ipython",
    "version": 3
   },
   "file_extension": ".py",
   "mimetype": "text/x-python",
   "name": "python",
   "nbconvert_exporter": "python",
   "pygments_lexer": "ipython3",
   "version": "3.9.7"
  }
 },
 "nbformat": 4,
 "nbformat_minor": 5
}
